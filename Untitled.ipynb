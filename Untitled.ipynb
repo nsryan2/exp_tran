{
 "cells": [
  {
   "cell_type": "code",
   "execution_count": 21,
   "id": "d3e8b3ac",
   "metadata": {},
   "outputs": [],
   "source": [
    "import pandas as pd\n",
    "import numpy as np\n",
    "import matplotlib.pyplot as plt\n",
    "from tabulate import tabulate\n",
    "import pprint"
   ]
  },
  {
   "cell_type": "code",
   "execution_count": 13,
   "id": "45ad083b",
   "metadata": {},
   "outputs": [],
   "source": [
    "table = pd.read_html('https://www.eia.gov/nuclear/spent_fuel/ussnftab2.php')"
   ]
  },
  {
   "cell_type": "code",
   "execution_count": 37,
   "id": "a083395a",
   "metadata": {},
   "outputs": [],
   "source": [
    "long = table[0].to_dict()\n",
    "# pp = pprint.PrettyPrinter(indent=8)\n",
    "# pp.pprint(long)"
   ]
  },
  {
   "cell_type": "code",
   "execution_count": 46,
   "id": "eabedafc",
   "metadata": {},
   "outputs": [],
   "source": [
    "cols = ['Actual retirement (year)', 'Core size (number of assemblies)', \n",
    "        'License expiration (year)', 'Reactor name',\n",
    "        'Reactor type', 'Reactor vendora',\n",
    "        'Startup date (year) b', 'State']\n",
    "ac_re = []\n",
    "core = []\n",
    "lic = []\n",
    "reac = []\n",
    "re_ty = []\n",
    "re_ven = []\n",
    "start = []\n",
    "state = []\n",
    "\n",
    "for i in range(0, 119):\n",
    "    ac_re.append(long['Actual retirement (year)'][i])\n",
    "    core.append(long['Core size (number of assemblies)'][i])\n",
    "    lic.append(long['License expiration (year)'][i])\n",
    "    reac.append(long['Reactor name'][i])\n",
    "    re_ty.append(long['Reactor type'][i])\n",
    "    re_ven.append(long['Reactor vendora'][i])\n",
    "    start.append(long['Startup date (year) b'][i])\n",
    "    state.append(long['State'][i])\n",
    "\n",
    "us_reactors = {'Reactor Name': reac,\n",
    "               'Reactor type': re_ty,\n",
    "               'Reactor Vendor': re_ven,\n",
    "               'State':state,\n",
    "               'Startup (year)': start,\n",
    "               'Retirement (year)':ac_re,\n",
    "               'License Expiration (year)': lic,\n",
    "               'Core Size (# assemblies)': core,\n",
    "}"
   ]
  },
  {
   "cell_type": "code",
   "execution_count": null,
   "id": "a690b280",
   "metadata": {},
   "outputs": [],
   "source": []
  }
 ],
 "metadata": {
  "kernelspec": {
   "display_name": "Python 3 (ipykernel)",
   "language": "python",
   "name": "python3"
  },
  "language_info": {
   "codemirror_mode": {
    "name": "ipython",
    "version": 3
   },
   "file_extension": ".py",
   "mimetype": "text/x-python",
   "name": "python",
   "nbconvert_exporter": "python",
   "pygments_lexer": "ipython3",
   "version": "3.9.13"
  },
  "latex_envs": {
   "LaTeX_envs_menu_present": true,
   "autoclose": false,
   "autocomplete": true,
   "bibliofile": "biblio.bib",
   "cite_by": "apalike",
   "current_citInitial": 1,
   "eqLabelWithNumbers": true,
   "eqNumInitial": 1,
   "hotkeys": {
    "equation": "Ctrl-E",
    "itemize": "Ctrl-I"
   },
   "labels_anchors": false,
   "latex_user_defs": false,
   "report_style_numbering": false,
   "user_envs_cfg": false
  }
 },
 "nbformat": 4,
 "nbformat_minor": 5
}
